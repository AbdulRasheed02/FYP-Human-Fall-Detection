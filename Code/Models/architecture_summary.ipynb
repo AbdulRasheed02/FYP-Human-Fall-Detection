{
 "cells": [
  {
   "cell_type": "code",
   "execution_count": null,
   "metadata": {},
   "outputs": [],
   "source": [
    "import sys\n",
    "import os\n",
    "import torch\n",
    "import torchinfo\n",
    "\n",
    "sys.path.append(os.path.abspath(os.path.join(\"..\")))\n",
    "from parameters import (\n",
    "    models,\n",
    "    multi_modal_models,\n",
    "    batch_size,\n",
    "    ht,\n",
    "    wd,\n",
    "    window_len,\n",
    "    device,\n",
    "    chunk_size,\n",
    ")\n",
    "\n",
    "\n",
    "sys.path.remove(os.path.abspath(os.path.join(\"..\")))"
   ]
  },
  {
   "cell_type": "code",
   "execution_count": null,
   "metadata": {},
   "outputs": [],
   "source": [
    "# Single Modality\n",
    "for i, model in enumerate(models):\n",
    "    model = model().to(device)\n",
    "    torch.cuda.empty_cache()\n",
    "    print(torchinfo.summary(model, input_size=(batch_size, chunk_size, window_len, ht, wd)))\n",
    "\n",
    "# Multi Modality\n",
    "for multi_modal_model in multi_modal_models:\n",
    "    multi_modal_model = multi_modal_model().to(device)\n",
    "    torch.cuda.empty_cache()\n",
    "    print(\n",
    "        torchinfo.summary(\n",
    "            multi_modal_model,\n",
    "            input_size=[(batch_size, chunk_size, window_len, ht, wd), (batch_size, chunk_size, window_len, ht, wd)],\n",
    "        )\n",
    "    )\n",
    "\n",
    "torch.cuda.empty_cache()"
   ]
  }
 ],
 "metadata": {
  "kernelspec": {
   "display_name": "fyp_base_paper_2",
   "language": "python",
   "name": "python3"
  },
  "language_info": {
   "codemirror_mode": {
    "name": "ipython",
    "version": 3
   },
   "file_extension": ".py",
   "mimetype": "text/x-python",
   "name": "python",
   "nbconvert_exporter": "python",
   "pygments_lexer": "ipython3",
   "version": "3.8.18"
  }
 },
 "nbformat": 4,
 "nbformat_minor": 2
}
